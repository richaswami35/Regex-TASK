{
 "cells": [
  {
   "cell_type": "markdown",
   "metadata": {},
   "source": [
    "# #TASK2"
   ]
  },
  {
   "cell_type": "markdown",
   "metadata": {},
   "source": [
    "# Reg id:- SIRSS1253"
   ]
  },
  {
   "cell_type": "markdown",
   "metadata": {},
   "source": [
    "# Richa Swami"
   ]
  },
  {
   "cell_type": "markdown",
   "metadata": {},
   "source": [
    "# Q1. Write a lambda expression to extract first word of a string."
   ]
  },
  {
   "cell_type": "code",
   "execution_count": 1,
   "metadata": {},
   "outputs": [
    {
     "name": "stdout",
     "output_type": "stream",
     "text": [
      "Enter a String : welcome in python\n",
      "First word of a given string :  welcome\n"
     ]
    }
   ],
   "source": [
    "s = input(\"Enter a String : \")\n",
    "\n",
    "n = lambda x: x.split()[0]\n",
    "print(\"First word of a given string : \",n(s))"
   ]
  },
  {
   "cell_type": "markdown",
   "metadata": {},
   "source": [
    "# Q2. Write a function to extract first word of s string (with many words separated by space).¶"
   ]
  },
  {
   "cell_type": "code",
   "execution_count": 2,
   "metadata": {},
   "outputs": [
    {
     "name": "stdout",
     "output_type": "stream",
     "text": [
      "Enter a String : welcome in python\n",
      "First word of a given String :  welcome\n"
     ]
    }
   ],
   "source": [
    "inp = input(\"Enter a String : \")\n",
    "\n",
    "def first_word(inp) :\n",
    "     return inp.split()[0]\n",
    "    \n",
    "print(\"First word of a given String : \", first_word(inp))"
   ]
  },
  {
   "cell_type": "markdown",
   "metadata": {},
   "source": [
    "# Q3. Extract the first word from every string from a list of strings by using map function."
   ]
  },
  {
   "cell_type": "code",
   "execution_count": 3,
   "metadata": {},
   "outputs": [
    {
     "name": "stdout",
     "output_type": "stream",
     "text": [
      "['Welcome', 'Home', 'jupyter', 'Richa']\n"
     ]
    }
   ],
   "source": [
    "l=['Welcome in python','Home page','jupyter notebook','Richa swami']\n",
    "a=lambda s:s.split()[0]\n",
    "print(list(map(a,l)))"
   ]
  },
  {
   "cell_type": "markdown",
   "metadata": {},
   "source": [
    "# Q4. Write a function to return a list of prime factors of a given number."
   ]
  },
  {
   "cell_type": "code",
   "execution_count": 4,
   "metadata": {},
   "outputs": [
    {
     "name": "stdout",
     "output_type": "stream",
     "text": [
      "Enter a number35\n",
      "prime factors of  35 are : [5, 7]\n"
     ]
    }
   ],
   "source": [
    "def prime(n):\n",
    "    for i in range(2,n):\n",
    "        if(n%i==0):\n",
    "            return False\n",
    "            break\n",
    "    else:\n",
    "        return True\n",
    "def primef(n):\n",
    "    l=[]\n",
    "    for i in range(2,n+1):\n",
    "        if(n%i==0):\n",
    "            if(prime(i)):\n",
    "                l.append(i)\n",
    "    return l\n",
    "n=int(input('Enter a number'))\n",
    "print('prime factors of ',n,'are :',primef(n))"
   ]
  },
  {
   "cell_type": "markdown",
   "metadata": {},
   "source": [
    "# Q5. Write a function that finds 2nd largest among 4 numbers (Repetitions are allowed,without sorting)."
   ]
  },
  {
   "cell_type": "code",
   "execution_count": 5,
   "metadata": {},
   "outputs": [
    {
     "name": "stdout",
     "output_type": "stream",
     "text": [
      "Enter any four numbers : 3 10 2 4\n",
      "4\n"
     ]
    }
   ],
   "source": [
    "def secondlarge(l):\n",
    "    new_list=set(l)\n",
    "    new_list.remove(max(new_list))\n",
    "    print(max(new_list))\n",
    "l = [int(i) for i in input(\"Enter any four numbers : \").split()]\n",
    "secondlarge(l)"
   ]
  },
  {
   "cell_type": "code",
   "execution_count": null,
   "metadata": {},
   "outputs": [],
   "source": []
  }
 ],
 "metadata": {
  "kernelspec": {
   "display_name": "Python 3",
   "language": "python",
   "name": "python3"
  },
  "language_info": {
   "codemirror_mode": {
    "name": "ipython",
    "version": 3
   },
   "file_extension": ".py",
   "mimetype": "text/x-python",
   "name": "python",
   "nbconvert_exporter": "python",
   "pygments_lexer": "ipython3",
   "version": "3.8.5"
  }
 },
 "nbformat": 4,
 "nbformat_minor": 4
}
