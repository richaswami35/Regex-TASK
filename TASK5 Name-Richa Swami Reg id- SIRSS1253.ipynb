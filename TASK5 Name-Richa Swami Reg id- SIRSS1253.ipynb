{
 "cells": [
  {
   "cell_type": "markdown",
   "metadata": {},
   "source": [
    "# #TASK5"
   ]
  },
  {
   "cell_type": "markdown",
   "metadata": {},
   "source": [
    "# Registration id-SIRSS1253"
   ]
  },
  {
   "cell_type": "markdown",
   "metadata": {},
   "source": [
    "# Name-Richa Swami"
   ]
  },
  {
   "cell_type": "markdown",
   "metadata": {},
   "source": [
    "# Q1. Given a list of integers, write a function to return the sum of all prime numbers in that list."
   ]
  },
  {
   "cell_type": "code",
   "execution_count": 1,
   "metadata": {},
   "outputs": [
    {
     "name": "stdout",
     "output_type": "stream",
     "text": [
      "2\n",
      "3\n",
      "5\n",
      "11\n",
      "13\n"
     ]
    },
    {
     "data": {
      "text/plain": [
       "34"
      ]
     },
     "execution_count": 1,
     "metadata": {},
     "output_type": "execute_result"
    }
   ],
   "source": [
    "import math\n",
    "def prime(n):\n",
    "    if n == 0 or n == 1:\n",
    "        return False\n",
    "    else:\n",
    "        for i in range(2, int(n**0.5)+1):\n",
    "            if n%i == 0:\n",
    "                return False\n",
    "                break\n",
    "        else:\n",
    "            return True\n",
    "            \n",
    "def sum_prime(ls):\n",
    "    sum_of_primes=0\n",
    "    for i in ls:\n",
    "        if prime(i):\n",
    "            print(i)\n",
    "            sum_of_primes += i\n",
    "    return sum_of_primes\n",
    "sum_prime([0,1,2,3,4,5,10,11,12,13])"
   ]
  },
  {
   "cell_type": "markdown",
   "metadata": {},
   "source": [
    "# Q2. Given a list of integers, write a function to check whether the list is strictly increasing or not."
   ]
  },
  {
   "cell_type": "code",
   "execution_count": 2,
   "metadata": {},
   "outputs": [
    {
     "name": "stdout",
     "output_type": "stream",
     "text": [
      "12 34 56 78 90\n",
      "List is strictly increases :  True\n"
     ]
    }
   ],
   "source": [
    "def Inc(l):\n",
    "    flag=True\n",
    "    for i in range(1,len(l)):\n",
    "        if l[i-1]>l[i]:\n",
    "            flag=False\n",
    "            break\n",
    "    return flag\n",
    "l1=input().split()\n",
    "list1=list(map(lambda x:int(x),l1))\n",
    "print('List is strictly increases : ',Inc(list1))"
   ]
  },
  {
   "cell_type": "markdown",
   "metadata": {},
   "source": [
    "# Q3. Write a function to check whether a given list is expanding or not (the difference between adjacent elements should keep on increasing)."
   ]
  },
  {
   "cell_type": "code",
   "execution_count": 3,
   "metadata": {},
   "outputs": [
    {
     "data": {
      "text/plain": [
       "True"
      ]
     },
     "execution_count": 3,
     "metadata": {},
     "output_type": "execute_result"
    }
   ],
   "source": [
    "def expanding(l):\n",
    "    d1 = abs(l[1] - l[0])\n",
    "    d2 = abs(l[2] - l[1])\n",
    "    \n",
    "    if d1 >= d2:\n",
    "        return False\n",
    "    \n",
    "    else:\n",
    "        for i in range(3,len(l)):\n",
    "            d3 = abs(l[i] - l[i-1])\n",
    "            if d3 <= d2:\n",
    "                return False\n",
    "            d2 = d3\n",
    "        else:\n",
    "            return True\n",
    "expanding([1,3,7,2,9])        "
   ]
  },
  {
   "cell_type": "markdown",
   "metadata": {},
   "source": [
    "# Q4. Write a function to calculate all permutations of a given string. (Without using itertools)"
   ]
  },
  {
   "cell_type": "code",
   "execution_count": 4,
   "metadata": {},
   "outputs": [
    {
     "name": "stdout",
     "output_type": "stream",
     "text": [
      "Enter the String : hello\n"
     ]
    },
    {
     "data": {
      "text/plain": [
       "['hello',\n",
       " 'ehllo',\n",
       " 'elhlo',\n",
       " 'ellho',\n",
       " 'elloh',\n",
       " 'hlelo',\n",
       " 'lhelo',\n",
       " 'lehlo',\n",
       " 'lelho',\n",
       " 'leloh',\n",
       " 'hlleo',\n",
       " 'lhleo',\n",
       " 'llheo',\n",
       " 'lleho',\n",
       " 'lleoh',\n",
       " 'hlloe',\n",
       " 'lhloe',\n",
       " 'llhoe',\n",
       " 'llohe',\n",
       " 'lloeh',\n",
       " 'hello',\n",
       " 'ehllo',\n",
       " 'elhlo',\n",
       " 'ellho',\n",
       " 'elloh',\n",
       " 'hlelo',\n",
       " 'lhelo',\n",
       " 'lehlo',\n",
       " 'lelho',\n",
       " 'leloh',\n",
       " 'hlleo',\n",
       " 'lhleo',\n",
       " 'llheo',\n",
       " 'lleho',\n",
       " 'lleoh',\n",
       " 'hlloe',\n",
       " 'lhloe',\n",
       " 'llhoe',\n",
       " 'llohe',\n",
       " 'lloeh',\n",
       " 'helol',\n",
       " 'ehlol',\n",
       " 'elhol',\n",
       " 'elohl',\n",
       " 'elolh',\n",
       " 'hleol',\n",
       " 'lheol',\n",
       " 'lehol',\n",
       " 'leohl',\n",
       " 'leolh',\n",
       " 'hloel',\n",
       " 'lhoel',\n",
       " 'lohel',\n",
       " 'loehl',\n",
       " 'loelh',\n",
       " 'hlole',\n",
       " 'lhole',\n",
       " 'lohle',\n",
       " 'lolhe',\n",
       " 'loleh',\n",
       " 'helol',\n",
       " 'ehlol',\n",
       " 'elhol',\n",
       " 'elohl',\n",
       " 'elolh',\n",
       " 'hleol',\n",
       " 'lheol',\n",
       " 'lehol',\n",
       " 'leohl',\n",
       " 'leolh',\n",
       " 'hloel',\n",
       " 'lhoel',\n",
       " 'lohel',\n",
       " 'loehl',\n",
       " 'loelh',\n",
       " 'hlole',\n",
       " 'lhole',\n",
       " 'lohle',\n",
       " 'lolhe',\n",
       " 'loleh',\n",
       " 'heoll',\n",
       " 'eholl',\n",
       " 'eohll',\n",
       " 'eolhl',\n",
       " 'eollh',\n",
       " 'hoell',\n",
       " 'ohell',\n",
       " 'oehll',\n",
       " 'oelhl',\n",
       " 'oellh',\n",
       " 'holel',\n",
       " 'ohlel',\n",
       " 'olhel',\n",
       " 'olehl',\n",
       " 'olelh',\n",
       " 'holle',\n",
       " 'ohlle',\n",
       " 'olhle',\n",
       " 'ollhe',\n",
       " 'olleh',\n",
       " 'heoll',\n",
       " 'eholl',\n",
       " 'eohll',\n",
       " 'eolhl',\n",
       " 'eollh',\n",
       " 'hoell',\n",
       " 'ohell',\n",
       " 'oehll',\n",
       " 'oelhl',\n",
       " 'oellh',\n",
       " 'holel',\n",
       " 'ohlel',\n",
       " 'olhel',\n",
       " 'olehl',\n",
       " 'olelh',\n",
       " 'holle',\n",
       " 'ohlle',\n",
       " 'olhle',\n",
       " 'ollhe',\n",
       " 'olleh']"
      ]
     },
     "execution_count": 4,
     "metadata": {},
     "output_type": "execute_result"
    }
   ],
   "source": [
    "def permutation(str) :\n",
    "    if len(str) == 1 :\n",
    "        return [str]\n",
    "    prmts = permutation(str[1:])\n",
    "    fst = str[0]\n",
    "    rslt = []\n",
    "    for i in prmts :\n",
    "        for j in range(len(i)+1) :\n",
    "            rslt.append(i[:j] + fst + i[j:])\n",
    "    return rslt\n",
    "\n",
    "\n",
    "inp = str(input(\"Enter the String : \"))\n",
    "permutation(inp)"
   ]
  }
 ],
 "metadata": {
  "kernelspec": {
   "display_name": "Python 3",
   "language": "python",
   "name": "python3"
  },
  "language_info": {
   "codemirror_mode": {
    "name": "ipython",
    "version": 3
   },
   "file_extension": ".py",
   "mimetype": "text/x-python",
   "name": "python",
   "nbconvert_exporter": "python",
   "pygments_lexer": "ipython3",
   "version": "3.8.5"
  }
 },
 "nbformat": 4,
 "nbformat_minor": 4
}
