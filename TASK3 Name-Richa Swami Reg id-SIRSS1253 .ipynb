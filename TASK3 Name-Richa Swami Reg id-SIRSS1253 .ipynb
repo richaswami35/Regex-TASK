{
 "cells": [
  {
   "cell_type": "markdown",
   "metadata": {},
   "source": [
    "# #TASK3"
   ]
  },
  {
   "cell_type": "markdown",
   "metadata": {},
   "source": [
    "# Ref id:- SIRSS1253"
   ]
  },
  {
   "cell_type": "markdown",
   "metadata": {},
   "source": [
    "# Richa Swami"
   ]
  },
  {
   "cell_type": "markdown",
   "metadata": {},
   "source": [
    "# Q.1 Write a function to return nth term of fibonacci sequence."
   ]
  },
  {
   "cell_type": "code",
   "execution_count": null,
   "metadata": {},
   "outputs": [],
   "source": [
    "def fibonacci(n) :\n",
    "    if n==0 :\n",
    "        return 0\n",
    "    elif(n==1):\n",
    "        return 1\n",
    "    else : \n",
    "        return (fibonacci(n-1) + fibonacci(n-2))\n",
    "    \n",
    "x = int(input(\"Enter a Number : \"))\n",
    "\n",
    "if x < 0 :\n",
    "    print(\"Please Enter Positive Number \")\n",
    "else :\n",
    "    for i in range(x) :\n",
    "        print(fibonacci(i), end = \" \")"
   ]
  },
  {
   "cell_type": "markdown",
   "metadata": {},
   "source": [
    "# Q.2 Write a function to find out GCD of two numbers using EUCLID'S algorithm."
   ]
  },
  {
   "cell_type": "code",
   "execution_count": 2,
   "metadata": {},
   "outputs": [
    {
     "name": "stdout",
     "output_type": "stream",
     "text": [
      "Enter first number3\n",
      "Enter second number6\n",
      "GCD is 3\n"
     ]
    }
   ],
   "source": [
    "def GCD(a,b):\n",
    "    if b==0:\n",
    "        return a\n",
    "    else:\n",
    "        return GCD(b,a%b)\n",
    "num1=int(input(\"Enter first number\"))\n",
    "num2=int(input(\"Enter second number\"))\n",
    "print(\"GCD is\", GCD(num1,num2))"
   ]
  },
  {
   "cell_type": "markdown",
   "metadata": {},
   "source": [
    "# Q.3 Write a function to find   LCM of two number in most optimizers way."
   ]
  },
  {
   "cell_type": "code",
   "execution_count": 3,
   "metadata": {},
   "outputs": [
    {
     "name": "stdout",
     "output_type": "stream",
     "text": [
      "Enter first number36\n",
      "Enter seconf number48\n",
      "Lcm of  36 and 48 is : 144\n"
     ]
    }
   ],
   "source": [
    "def lcm(num1,num2):\n",
    "    return (num1//GCD(num1,num2))*num2\n",
    "num1=int(input(\"Enter first number\"))\n",
    "num2=int(input(\"Enter seconf number\"))\n",
    "print('Lcm of ',num1,\"and\",num2,'is :',lcm(num1,num2))"
   ]
  },
  {
   "cell_type": "code",
   "execution_count": null,
   "metadata": {},
   "outputs": [],
   "source": []
  }
 ],
 "metadata": {
  "kernelspec": {
   "display_name": "Python 3",
   "language": "python",
   "name": "python3"
  },
  "language_info": {
   "codemirror_mode": {
    "name": "ipython",
    "version": 3
   },
   "file_extension": ".py",
   "mimetype": "text/x-python",
   "name": "python",
   "nbconvert_exporter": "python",
   "pygments_lexer": "ipython3",
   "version": "3.8.5"
  }
 },
 "nbformat": 4,
 "nbformat_minor": 4
}
