{
  "nbformat": 4,
  "nbformat_minor": 0,
  "metadata": {
    "kernelspec": {
      "display_name": "Python 3",
      "language": "python",
      "name": "python3"
    },
    "language_info": {
      "codemirror_mode": {
        "name": "ipython",
        "version": 3
      },
      "file_extension": ".py",
      "mimetype": "text/x-python",
      "name": "python",
      "nbconvert_exporter": "python",
      "pygments_lexer": "ipython3",
      "version": "3.8.5"
    },
    "colab": {
      "name": "TASK13 Name-Richa Swami Reg id-SIRSS1253.ipynb",
      "provenance": []
    },
    "accelerator": "GPU"
  },
  "cells": [
    {
      "cell_type": "markdown",
      "metadata": {
        "id": "Cjsams77vC_T"
      },
      "source": [
        "# TASK 13\n",
        "# ID: SIRSS1253\n",
        "# Name: Richa Swami"
      ]
    },
    {
      "cell_type": "code",
      "metadata": {
        "id": "dR9PbxVdvC_W"
      },
      "source": [
        "import numpy\n",
        "import tensorflow as tf\n",
        "from keras.models import Sequential\n",
        "from keras.layers import Dense, Dropout, BatchNormalization, Activation,Flatten\n",
        "from keras.constraints import maxnorm\n",
        "from keras.utils import np_utils\n",
        "from keras.datasets import cifar10"
      ],
      "execution_count": 1,
      "outputs": []
    },
    {
      "cell_type": "code",
      "metadata": {
        "id": "nxXD5yJHvC_Y"
      },
      "source": [
        "seed=21 \n"
      ],
      "execution_count": 2,
      "outputs": []
    },
    {
      "cell_type": "code",
      "metadata": {
        "colab": {
          "base_uri": "https://localhost:8080/"
        },
        "id": "NVq-jIiGvC_Z",
        "outputId": "1a4b475b-e556-45b4-c0fa-a77e75535145"
      },
      "source": [
        "# Loading the data \n",
        "\n",
        "(x_train, y_train),(x_test, y_test)=cifar10.load_data()"
      ],
      "execution_count": 3,
      "outputs": [
        {
          "output_type": "stream",
          "text": [
            "Downloading data from https://www.cs.toronto.edu/~kriz/cifar-10-python.tar.gz\n",
            "170500096/170498071 [==============================] - 4s 0us/step\n",
            "170508288/170498071 [==============================] - 4s 0us/step\n"
          ],
          "name": "stdout"
        }
      ]
    },
    {
      "cell_type": "code",
      "metadata": {
        "colab": {
          "base_uri": "https://localhost:8080/"
        },
        "id": "0dWknMJ0vC_a",
        "outputId": "d8dca9fa-bfc7-4b3c-ceb7-42e7f37b85e2"
      },
      "source": [
        "print(x_train[0])"
      ],
      "execution_count": 4,
      "outputs": [
        {
          "output_type": "stream",
          "text": [
            "[[[ 59  62  63]\n",
            "  [ 43  46  45]\n",
            "  [ 50  48  43]\n",
            "  ...\n",
            "  [158 132 108]\n",
            "  [152 125 102]\n",
            "  [148 124 103]]\n",
            "\n",
            " [[ 16  20  20]\n",
            "  [  0   0   0]\n",
            "  [ 18   8   0]\n",
            "  ...\n",
            "  [123  88  55]\n",
            "  [119  83  50]\n",
            "  [122  87  57]]\n",
            "\n",
            " [[ 25  24  21]\n",
            "  [ 16   7   0]\n",
            "  [ 49  27   8]\n",
            "  ...\n",
            "  [118  84  50]\n",
            "  [120  84  50]\n",
            "  [109  73  42]]\n",
            "\n",
            " ...\n",
            "\n",
            " [[208 170  96]\n",
            "  [201 153  34]\n",
            "  [198 161  26]\n",
            "  ...\n",
            "  [160 133  70]\n",
            "  [ 56  31   7]\n",
            "  [ 53  34  20]]\n",
            "\n",
            " [[180 139  96]\n",
            "  [173 123  42]\n",
            "  [186 144  30]\n",
            "  ...\n",
            "  [184 148  94]\n",
            "  [ 97  62  34]\n",
            "  [ 83  53  34]]\n",
            "\n",
            " [[177 144 116]\n",
            "  [168 129  94]\n",
            "  [179 142  87]\n",
            "  ...\n",
            "  [216 184 140]\n",
            "  [151 118  84]\n",
            "  [123  92  72]]]\n"
          ],
          "name": "stdout"
        }
      ]
    },
    {
      "cell_type": "code",
      "metadata": {
        "id": "h56NpXCUvC_b"
      },
      "source": [
        "# Normalization Need to be done \n",
        "\n",
        "x_train=x_train.astype('float32')\n",
        "x_test=x_test.astype('float32')\n",
        "x_train=x_train/255.0\n",
        "x_test=x_test/255.0"
      ],
      "execution_count": 5,
      "outputs": []
    },
    {
      "cell_type": "code",
      "metadata": {
        "id": "zUoUTYkxvC_c"
      },
      "source": [
        "y_train=np_utils.to_categorical(y_train)\n",
        "y_test=np_utils.to_categorical(y_test)\n",
        "class_num=y_test.shape[1]"
      ],
      "execution_count": 6,
      "outputs": []
    },
    {
      "cell_type": "code",
      "metadata": {
        "id": "CUE6RHqSvC_c"
      },
      "source": [
        "model=Sequential()"
      ],
      "execution_count": 7,
      "outputs": []
    },
    {
      "cell_type": "code",
      "metadata": {
        "id": "yE9vKU05vC_d"
      },
      "source": [
        "from keras.layers.convolutional import Conv2D, MaxPooling2D\n",
        "# Convolution Layer\n",
        "model.add(Conv2D(32,(3,3),input_shape=x_train.shape[1:],padding='same'))\n",
        "model.add(Activation('relu'))\n",
        "#zero padding done"
      ],
      "execution_count": 8,
      "outputs": []
    },
    {
      "cell_type": "code",
      "metadata": {
        "id": "1epuLJ-evC_d"
      },
      "source": [
        "model.add(Dropout(0.2))\n",
        "model.add(BatchNormalization())"
      ],
      "execution_count": 9,
      "outputs": []
    },
    {
      "cell_type": "code",
      "metadata": {
        "id": "svqIFptIvC_e"
      },
      "source": [
        "# Now comes another convoultion layer\n",
        "\n",
        "model.add(Conv2D(64,(3,3),padding='same'))\n",
        "model.add(Activation('relu'))"
      ],
      "execution_count": 10,
      "outputs": []
    },
    {
      "cell_type": "code",
      "metadata": {
        "id": "40qDvJ3bvC_e"
      },
      "source": [
        "# now with pooling layer\n",
        "\n",
        "model.add(MaxPooling2D(pool_size=(2,2)))\n",
        "model.add(Dropout(0.2))\n",
        "model.add(BatchNormalization())"
      ],
      "execution_count": 11,
      "outputs": []
    },
    {
      "cell_type": "code",
      "metadata": {
        "id": "hy9zgTNavC_f"
      },
      "source": [
        "# Repeating the same \n",
        "model.add(Conv2D(64,(3,3),padding='same'))\n",
        "model.add(Activation('relu'))\n",
        "model.add(MaxPooling2D(pool_size=(2,2)))\n",
        "model.add(Dropout(0.2))\n",
        "model.add(BatchNormalization())\n",
        "\n",
        "\n",
        "model.add(Conv2D(128,(3,3),padding='same'))\n",
        "model.add(Activation('relu'))\n",
        "model.add(MaxPooling2D(pool_size=(2,2)))\n",
        "model.add(Dropout(0.2))\n",
        "model.add(BatchNormalization())"
      ],
      "execution_count": 12,
      "outputs": []
    },
    {
      "cell_type": "code",
      "metadata": {
        "id": "piqm9QNKvC_f"
      },
      "source": [
        "# Need to flatter for 1D \n",
        "\n",
        "model.add(Flatten())\n",
        "model.add(Dropout(0.2))"
      ],
      "execution_count": 13,
      "outputs": []
    },
    {
      "cell_type": "code",
      "metadata": {
        "id": "6HAtG4FcvC_g"
      },
      "source": [
        "model.add(Dense(256,kernel_constraint=maxnorm(3)))\n",
        "model.add(Activation('relu'))\n",
        "model.add(Dropout(0.2))\n",
        "model.add(BatchNormalization())\n",
        "\n",
        "\n",
        "model.add(Dense(256,kernel_constraint=maxnorm(3)))\n",
        "model.add(Activation('relu'))\n",
        "model.add(Dropout(0.2))\n",
        "model.add(BatchNormalization())"
      ],
      "execution_count": 14,
      "outputs": []
    },
    {
      "cell_type": "code",
      "metadata": {
        "id": "9q6wZLKGvC_g"
      },
      "source": [
        "model.add(Dense(class_num))\n",
        "model.add(Activation('softmax'))"
      ],
      "execution_count": 15,
      "outputs": []
    },
    {
      "cell_type": "code",
      "metadata": {
        "id": "EZHBWZcHvC_g"
      },
      "source": [
        "epochs=25\n",
        "optimizer='adam'"
      ],
      "execution_count": 16,
      "outputs": []
    },
    {
      "cell_type": "code",
      "metadata": {
        "id": "cdepYB66vC_h"
      },
      "source": [
        "model.compile(loss='categorical_crossentropy',optimizer=optimizer, metrics=['accuracy'])"
      ],
      "execution_count": 17,
      "outputs": []
    },
    {
      "cell_type": "code",
      "metadata": {
        "colab": {
          "base_uri": "https://localhost:8080/"
        },
        "id": "_TehioT1vC_h",
        "outputId": "e025e812-6a7f-469f-a3ec-c2294ca62265"
      },
      "source": [
        "print(model.summary())"
      ],
      "execution_count": 18,
      "outputs": [
        {
          "output_type": "stream",
          "text": [
            "Model: \"sequential\"\n",
            "_________________________________________________________________\n",
            "Layer (type)                 Output Shape              Param #   \n",
            "=================================================================\n",
            "conv2d (Conv2D)              (None, 32, 32, 32)        896       \n",
            "_________________________________________________________________\n",
            "activation (Activation)      (None, 32, 32, 32)        0         \n",
            "_________________________________________________________________\n",
            "dropout (Dropout)            (None, 32, 32, 32)        0         \n",
            "_________________________________________________________________\n",
            "batch_normalization (BatchNo (None, 32, 32, 32)        128       \n",
            "_________________________________________________________________\n",
            "conv2d_1 (Conv2D)            (None, 32, 32, 64)        18496     \n",
            "_________________________________________________________________\n",
            "activation_1 (Activation)    (None, 32, 32, 64)        0         \n",
            "_________________________________________________________________\n",
            "max_pooling2d (MaxPooling2D) (None, 16, 16, 64)        0         \n",
            "_________________________________________________________________\n",
            "dropout_1 (Dropout)          (None, 16, 16, 64)        0         \n",
            "_________________________________________________________________\n",
            "batch_normalization_1 (Batch (None, 16, 16, 64)        256       \n",
            "_________________________________________________________________\n",
            "conv2d_2 (Conv2D)            (None, 16, 16, 64)        36928     \n",
            "_________________________________________________________________\n",
            "activation_2 (Activation)    (None, 16, 16, 64)        0         \n",
            "_________________________________________________________________\n",
            "max_pooling2d_1 (MaxPooling2 (None, 8, 8, 64)          0         \n",
            "_________________________________________________________________\n",
            "dropout_2 (Dropout)          (None, 8, 8, 64)          0         \n",
            "_________________________________________________________________\n",
            "batch_normalization_2 (Batch (None, 8, 8, 64)          256       \n",
            "_________________________________________________________________\n",
            "conv2d_3 (Conv2D)            (None, 8, 8, 128)         73856     \n",
            "_________________________________________________________________\n",
            "activation_3 (Activation)    (None, 8, 8, 128)         0         \n",
            "_________________________________________________________________\n",
            "max_pooling2d_2 (MaxPooling2 (None, 4, 4, 128)         0         \n",
            "_________________________________________________________________\n",
            "dropout_3 (Dropout)          (None, 4, 4, 128)         0         \n",
            "_________________________________________________________________\n",
            "batch_normalization_3 (Batch (None, 4, 4, 128)         512       \n",
            "_________________________________________________________________\n",
            "flatten (Flatten)            (None, 2048)              0         \n",
            "_________________________________________________________________\n",
            "dropout_4 (Dropout)          (None, 2048)              0         \n",
            "_________________________________________________________________\n",
            "dense (Dense)                (None, 256)               524544    \n",
            "_________________________________________________________________\n",
            "activation_4 (Activation)    (None, 256)               0         \n",
            "_________________________________________________________________\n",
            "dropout_5 (Dropout)          (None, 256)               0         \n",
            "_________________________________________________________________\n",
            "batch_normalization_4 (Batch (None, 256)               1024      \n",
            "_________________________________________________________________\n",
            "dense_1 (Dense)              (None, 256)               65792     \n",
            "_________________________________________________________________\n",
            "activation_5 (Activation)    (None, 256)               0         \n",
            "_________________________________________________________________\n",
            "dropout_6 (Dropout)          (None, 256)               0         \n",
            "_________________________________________________________________\n",
            "batch_normalization_5 (Batch (None, 256)               1024      \n",
            "_________________________________________________________________\n",
            "dense_2 (Dense)              (None, 10)                2570      \n",
            "_________________________________________________________________\n",
            "activation_6 (Activation)    (None, 10)                0         \n",
            "=================================================================\n",
            "Total params: 726,282\n",
            "Trainable params: 724,682\n",
            "Non-trainable params: 1,600\n",
            "_________________________________________________________________\n",
            "None\n"
          ],
          "name": "stdout"
        }
      ]
    },
    {
      "cell_type": "code",
      "metadata": {
        "colab": {
          "base_uri": "https://localhost:8080/"
        },
        "id": "vxlVN0KqvC_i",
        "outputId": "04c03816-97a0-44ed-df71-ed4e8d620823"
      },
      "source": [
        "numpy.random.seed(seed)\n",
        "result=model.fit(x_train,y_train,validation_data=(x_test,y_test),epochs=epochs,batch_size=64)"
      ],
      "execution_count": 19,
      "outputs": [
        {
          "output_type": "stream",
          "text": [
            "Epoch 1/25\n",
            "782/782 [==============================] - 58s 12ms/step - loss: 1.8855 - accuracy: 0.3541 - val_loss: 1.4137 - val_accuracy: 0.5018\n",
            "Epoch 2/25\n",
            "782/782 [==============================] - 8s 11ms/step - loss: 1.1679 - accuracy: 0.5795 - val_loss: 0.9772 - val_accuracy: 0.6453\n",
            "Epoch 3/25\n",
            "782/782 [==============================] - 8s 11ms/step - loss: 0.9502 - accuracy: 0.6645 - val_loss: 0.9545 - val_accuracy: 0.6694\n",
            "Epoch 4/25\n",
            "782/782 [==============================] - 8s 11ms/step - loss: 0.8449 - accuracy: 0.7039 - val_loss: 0.7139 - val_accuracy: 0.7489\n",
            "Epoch 5/25\n",
            "782/782 [==============================] - 8s 10ms/step - loss: 0.7515 - accuracy: 0.7358 - val_loss: 0.7694 - val_accuracy: 0.7307\n",
            "Epoch 6/25\n",
            "782/782 [==============================] - 8s 10ms/step - loss: 0.7050 - accuracy: 0.7485 - val_loss: 0.7244 - val_accuracy: 0.7498\n",
            "Epoch 7/25\n",
            "782/782 [==============================] - 8s 10ms/step - loss: 0.6632 - accuracy: 0.7682 - val_loss: 0.6135 - val_accuracy: 0.7895\n",
            "Epoch 8/25\n",
            "782/782 [==============================] - 8s 10ms/step - loss: 0.6369 - accuracy: 0.7758 - val_loss: 0.6050 - val_accuracy: 0.7917\n",
            "Epoch 9/25\n",
            "782/782 [==============================] - 8s 10ms/step - loss: 0.5915 - accuracy: 0.7914 - val_loss: 0.5991 - val_accuracy: 0.7921\n",
            "Epoch 10/25\n",
            "782/782 [==============================] - 8s 11ms/step - loss: 0.5760 - accuracy: 0.8012 - val_loss: 0.5809 - val_accuracy: 0.8044\n",
            "Epoch 11/25\n",
            "782/782 [==============================] - 8s 11ms/step - loss: 0.5533 - accuracy: 0.8043 - val_loss: 0.5501 - val_accuracy: 0.8110\n",
            "Epoch 12/25\n",
            "782/782 [==============================] - 8s 11ms/step - loss: 0.5337 - accuracy: 0.8107 - val_loss: 0.5572 - val_accuracy: 0.8062\n",
            "Epoch 13/25\n",
            "782/782 [==============================] - 8s 10ms/step - loss: 0.5237 - accuracy: 0.8141 - val_loss: 0.6389 - val_accuracy: 0.7801\n",
            "Epoch 14/25\n",
            "782/782 [==============================] - 8s 10ms/step - loss: 0.5159 - accuracy: 0.8172 - val_loss: 0.5025 - val_accuracy: 0.8275\n",
            "Epoch 15/25\n",
            "782/782 [==============================] - 8s 10ms/step - loss: 0.4923 - accuracy: 0.8260 - val_loss: 0.5689 - val_accuracy: 0.8044\n",
            "Epoch 16/25\n",
            "782/782 [==============================] - 8s 10ms/step - loss: 0.4809 - accuracy: 0.8303 - val_loss: 0.5093 - val_accuracy: 0.8233\n",
            "Epoch 17/25\n",
            "782/782 [==============================] - 8s 10ms/step - loss: 0.4741 - accuracy: 0.8322 - val_loss: 0.5443 - val_accuracy: 0.8147\n",
            "Epoch 18/25\n",
            "782/782 [==============================] - 8s 10ms/step - loss: 0.4589 - accuracy: 0.8359 - val_loss: 0.5084 - val_accuracy: 0.8240\n",
            "Epoch 19/25\n",
            "782/782 [==============================] - 8s 11ms/step - loss: 0.4619 - accuracy: 0.8371 - val_loss: 0.4875 - val_accuracy: 0.8378\n",
            "Epoch 20/25\n",
            "782/782 [==============================] - 8s 11ms/step - loss: 0.4466 - accuracy: 0.8424 - val_loss: 0.4993 - val_accuracy: 0.8318\n",
            "Epoch 21/25\n",
            "782/782 [==============================] - 8s 10ms/step - loss: 0.4386 - accuracy: 0.8450 - val_loss: 0.5044 - val_accuracy: 0.8304\n",
            "Epoch 22/25\n",
            "782/782 [==============================] - 8s 10ms/step - loss: 0.4269 - accuracy: 0.8518 - val_loss: 0.5132 - val_accuracy: 0.8304\n",
            "Epoch 23/25\n",
            "782/782 [==============================] - 8s 10ms/step - loss: 0.4307 - accuracy: 0.8487 - val_loss: 0.4824 - val_accuracy: 0.8405\n",
            "Epoch 24/25\n",
            "782/782 [==============================] - 8s 10ms/step - loss: 0.4216 - accuracy: 0.8503 - val_loss: 0.4872 - val_accuracy: 0.8382\n",
            "Epoch 25/25\n",
            "782/782 [==============================] - 8s 10ms/step - loss: 0.4010 - accuracy: 0.8588 - val_loss: 0.4738 - val_accuracy: 0.8432\n"
          ],
          "name": "stdout"
        }
      ]
    },
    {
      "cell_type": "code",
      "metadata": {
        "colab": {
          "base_uri": "https://localhost:8080/",
          "height": 615
        },
        "id": "DpnvmGIZvC_j",
        "outputId": "d28a5833-b902-49c1-bcec-d17893b6cbd4"
      },
      "source": [
        "import matplotlib.pyplot as plt\n",
        "\n",
        "plt.figure(figsize=(20, 10))\n",
        "plt.subplot(1, 2, 1)\n",
        "plt.title(\"CNN Training and Validation Accuracy\")\n",
        "plt.plot(result.history[\"accuracy\"], label='Training Accuracy')\n",
        "plt.plot(result.history['val_accuracy'], label='Validation Accuracy')\n",
        "plt.legend(loc='lower right')\n",
        "plt.ylabel('accuracy')\n",
        "plt.xlabel('epoch')\n",
        "plt.subplot(1, 2, 2)\n",
        "plt.plot( result.history[\"loss\"], label='Training Loss')\n",
        "plt.plot( result.history[\"val_loss\"], label='Validation Loss')\n",
        "plt.legend(loc='upper right')\n",
        "plt.title('CNN Training and Validation Loss')\n",
        "plt.ylabel('loss')\n",
        "plt.xlabel('epoch')\n",
        "plt.show()\n"
      ],
      "execution_count": 20,
      "outputs": [
        {
          "output_type": "display_data",
          "data": {
            "image/png": "[encoded data removed]",
            "text/plain": [
              "<Figure size 1440x720 with 2 Axes>"
            ]
          },
          "metadata": {
            "tags": [],
            "needs_background": "light"
          }
        }
      ]
    },
    {
      "cell_type": "code",
      "metadata": {
        "colab": {
          "base_uri": "https://localhost:8080/"
        },
        "id": "E8xinw8MvC_k",
        "outputId": "72744a56-0b2f-45ce-b6a8-0684a221004e"
      },
      "source": [
        "# check performance on test\n",
        "scores = model.evaluate(x_test, y_test, verbose=1) \n",
        "print('Test loss:', scores[0])\n",
        "print('Test accuracy:', scores[1])"
      ],
      "execution_count": 21,
      "outputs": [
        {
          "output_type": "stream",
          "text": [
            "313/313 [==============================] - 1s 3ms/step - loss: 0.4738 - accuracy: 0.8432\n",
            "Test loss: 0.47380033135414124\n",
            "Test accuracy: 0.8432000279426575\n"
          ],
          "name": "stdout"
        }
      ]
    }
  ]
}